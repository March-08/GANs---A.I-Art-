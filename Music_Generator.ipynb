{
  "nbformat": 4,
  "nbformat_minor": 0,
  "metadata": {
    "colab": {
      "name": "Music Generator.ipynb",
      "provenance": []
    },
    "kernelspec": {
      "name": "python3",
      "display_name": "Python 3"
    },
    "language_info": {
      "name": "python"
    },
    "accelerator": "GPU"
  },
  "cells": [
    {
      "cell_type": "code",
      "execution_count": 5,
      "metadata": {
        "colab": {
          "base_uri": "https://localhost:8080/"
        },
        "id": "naRWY8TbQSbi",
        "outputId": "bb009c27-c52b-498b-962e-861627657e83"
      },
      "outputs": [
        {
          "output_type": "stream",
          "name": "stdout",
          "text": [
            "Requirement already satisfied: mido in /usr/local/lib/python3.7/dist-packages (1.2.10)\n"
          ]
        }
      ],
      "source": [
        "!pip install mido"
      ]
    },
    {
      "cell_type": "code",
      "source": [
        "import mido\n",
        "from mido import MidiFile, MidiTrack, Message\n",
        "import tensorflow as tf\n",
        "from tensorflow import keras\n",
        "from keras.layers import LSTM, Dense, Activation, Dropout, Flatten\n",
        "from keras.preprocessing import sequence\n",
        "from keras.models import Sequential\n",
        "from tensorflow.keras.optimizers import Adam\n",
        "from sklearn.preprocessing import MinMaxScaler\n",
        "import numpy as np"
      ],
      "metadata": {
        "id": "Lu0M1XXjQUdY"
      },
      "execution_count": 6,
      "outputs": []
    },
    {
      "cell_type": "markdown",
      "source": [
        "##Load MID files"
      ],
      "metadata": {
        "id": "bzN-A3LLQ_bE"
      }
    },
    {
      "cell_type": "code",
      "source": [
        "!unzip /content/chillhopdata.zip -d chillhop"
      ],
      "metadata": {
        "colab": {
          "base_uri": "https://localhost:8080/"
        },
        "id": "kJG5TTGgQ1rE",
        "outputId": "a74bd47b-5eb0-4a0a-db44-a0f34c183910"
      },
      "execution_count": 7,
      "outputs": [
        {
          "output_type": "stream",
          "name": "stdout",
          "text": [
            "Archive:  /content/chillhopdata.zip\n",
            "  inflating: chillhop/1.mid          \n",
            "  inflating: chillhop/10.mid         \n",
            "  inflating: chillhop/11.mid         \n",
            "  inflating: chillhop/12.mid         \n",
            "  inflating: chillhop/13.mid         \n",
            "  inflating: chillhop/14.mid         \n",
            "  inflating: chillhop/15.mid         \n",
            "  inflating: chillhop/16.mid         \n",
            "  inflating: chillhop/17.mid         \n",
            "  inflating: chillhop/18.mid         \n",
            "  inflating: chillhop/19.mid         \n",
            "  inflating: chillhop/2.mid          \n",
            "  inflating: chillhop/20.mid         \n",
            "  inflating: chillhop/3.mid          \n",
            "  inflating: chillhop/4.mid          \n",
            "  inflating: chillhop/5.mid          \n",
            "  inflating: chillhop/6.mid          \n",
            "  inflating: chillhop/7.mid          \n",
            "  inflating: chillhop/8.mid          \n",
            "  inflating: chillhop/9.mid          \n",
            "  inflating: chillhop/Cymatics - Eternity MIDI 1 - C Maj.mid  \n",
            "  inflating: chillhop/Cymatics - Eternity MIDI 10 - F Min.mid  \n",
            "  inflating: chillhop/Cymatics - Eternity MIDI 11 - A Maj.mid  \n",
            "  inflating: chillhop/Cymatics - Eternity MIDI 12 - A Min.mid  \n",
            "  inflating: chillhop/Cymatics - Eternity MIDI 13 - A Min.mid  \n",
            "  inflating: chillhop/Cymatics - Eternity MIDI 14 - A Min.mid  \n",
            "  inflating: chillhop/Cymatics - Eternity MIDI 15 - A Maj.mid  \n",
            "  inflating: chillhop/Cymatics - Eternity MIDI 16 - A Maj.mid  \n",
            "  inflating: chillhop/Cymatics - Eternity MIDI 17 - A Maj.mid  \n",
            "  inflating: chillhop/Cymatics - Eternity MIDI 18 - A Maj.mid  \n",
            "  inflating: chillhop/Cymatics - Eternity MIDI 19 - A Min.mid  \n",
            "  inflating: chillhop/Cymatics - Eternity MIDI 2 - C Min.mid  \n",
            "  inflating: chillhop/Cymatics - Eternity MIDI 20 - A Min.mid  \n",
            "  inflating: chillhop/Cymatics - Eternity MIDI 21 - A Min.mid  \n",
            "  inflating: chillhop/Cymatics - Eternity MIDI 22 - B Min.mid  \n",
            "  inflating: chillhop/Cymatics - Eternity MIDI 3 - D Maj.mid  \n",
            "  inflating: chillhop/Cymatics - Eternity MIDI 4 - D Maj.mid  \n",
            "  inflating: chillhop/Cymatics - Eternity MIDI 5 - D Min.mid  \n",
            "  inflating: chillhop/Cymatics - Eternity MIDI 6 - D Min.mid  \n",
            "  inflating: chillhop/Cymatics - Eternity MIDI 7 - E Min.mid  \n",
            "  inflating: chillhop/Cymatics - Eternity MIDI 8 - F Maj.mid  \n",
            "  inflating: chillhop/Cymatics - Eternity MIDI 9 - F Min.mid  \n",
            "  inflating: chillhop/Cymatics - Lofi MIDI 1 - C Maj.mid  \n",
            "  inflating: chillhop/Cymatics - Lofi MIDI 10 - D Maj.mid  \n",
            "  inflating: chillhop/Cymatics - Lofi MIDI 11 - E Maj.mid  \n",
            "  inflating: chillhop/Cymatics - Lofi MIDI 12 - E Min.mid  \n",
            "  inflating: chillhop/Cymatics - Lofi MIDI 13 - E Min.mid  \n",
            "  inflating: chillhop/Cymatics - Lofi MIDI 14 - F Min.mid  \n",
            "  inflating: chillhop/Cymatics - Lofi MIDI 15 - F Maj.mid  \n",
            "  inflating: chillhop/Cymatics - Lofi MIDI 16 - F Maj.mid  \n",
            "  inflating: chillhop/Cymatics - Lofi MIDI 17 - G Maj.mid  \n",
            "  inflating: chillhop/Cymatics - Lofi MIDI 18 - G Maj.mid  \n",
            "  inflating: chillhop/Cymatics - Lofi MIDI 19 - G Maj.mid  \n",
            "  inflating: chillhop/Cymatics - Lofi MIDI 2 - C Maj.mid  \n",
            "  inflating: chillhop/Cymatics - Lofi MIDI 20 - G Min.mid  \n",
            "  inflating: chillhop/Cymatics - Lofi MIDI 21 - A Min.mid  \n",
            "  inflating: chillhop/Cymatics - Lofi MIDI 22 - B Min.mid  \n",
            "  inflating: chillhop/Cymatics - Lofi MIDI 3 - C Min.mid  \n",
            "  inflating: chillhop/Cymatics - Lofi MIDI 4 - D Maj.mid  \n",
            "  inflating: chillhop/Cymatics - Lofi MIDI 5 - D Maj.mid  \n",
            "  inflating: chillhop/Cymatics - Lofi MIDI 6 - D Min.mid  \n",
            "  inflating: chillhop/Cymatics - Lofi MIDI 7 - D Maj.mid  \n",
            "  inflating: chillhop/Cymatics - Lofi MIDI 8 - D Maj.mid  \n",
            "  inflating: chillhop/Cymatics - Lofi MIDI 9 - D Maj.mid  \n",
            "  inflating: chillhop/E-Piano Chords MIDI.mid  \n",
            "  inflating: chillhop/E-Piano MIDI (2).mid  \n",
            "  inflating: chillhop/E-Piano MIDI.mid  \n",
            "  inflating: chillhop/Lofi Piano MIDI.mid  \n",
            "  inflating: chillhop/Piano 1 MIDI.mid  \n",
            "  inflating: chillhop/Piano 2 MIDI.mid  \n",
            "  inflating: chillhop/Piano Chords MIDI (2).mid  \n",
            "  inflating: chillhop/Piano Chords MIDI (3).mid  \n",
            "  inflating: chillhop/Piano Chords MIDI.mid  \n",
            "  inflating: chillhop/Piano MIDI (2).mid  \n",
            "  inflating: chillhop/Piano MIDI (3).mid  \n",
            "  inflating: chillhop/Piano MIDI (4).mid  \n",
            "  inflating: chillhop/Piano MIDI (5).mid  \n",
            "  inflating: chillhop/Piano MIDI (6).mid  \n",
            "  inflating: chillhop/Piano MIDI (7).mid  \n",
            "  inflating: chillhop/Piano MIDI (8).mid  \n",
            "  inflating: chillhop/Piano MIDI 1.mid  \n",
            "  inflating: chillhop/Piano MIDI 2.mid  \n",
            "  inflating: chillhop/Piano MIDI.mid  \n",
            "  inflating: chillhop/Rhodes MIDI (2).mid  \n",
            "  inflating: chillhop/Rhodes MIDI (3).mid  \n",
            "  inflating: chillhop/Rhodes MIDI (4).mid  \n",
            "  inflating: chillhop/Rhodes MIDI (5).mid  \n",
            "  inflating: chillhop/Rhodes MIDI (6).mid  \n",
            "  inflating: chillhop/Rhodes MIDI (7).mid  \n",
            "  inflating: chillhop/Rhodes MIDI (8).mid  \n",
            "  inflating: chillhop/Rhodes MIDI (9).mid  \n",
            "  inflating: chillhop/Rhodes MIDI.mid  \n",
            "  inflating: chillhop/merge_from_ofoct.mid  \n"
          ]
        }
      ]
    },
    {
      "cell_type": "code",
      "source": [
        "import os\n",
        "\n",
        "#store all the notes\n",
        "notes = []\n",
        "\n",
        "for song in os.listdir(\"/content/chillhop\"):\n",
        "  mid = MidiFile(\"/content/chillhop/\" + song)\n",
        "  \n",
        "  for msg in mid:\n",
        "    if not msg.is_meta and msg.channel == 0 and msg.type == \"note_on\":\n",
        "      data = msg.bytes()\n",
        "      notes.append(data[1]) "
      ],
      "metadata": {
        "id": "xg5gc1AsRgme"
      },
      "execution_count": 8,
      "outputs": []
    },
    {
      "cell_type": "markdown",
      "source": [
        "##Scale Data"
      ],
      "metadata": {
        "id": "LT4AWqjeSS66"
      }
    },
    {
      "cell_type": "code",
      "source": [
        "scaler = MinMaxScaler()\n",
        "notes = list(scaler.fit_transform(np.array(notes).reshape(-1,1)))"
      ],
      "metadata": {
        "id": "WzOMT-KZSREm"
      },
      "execution_count": 9,
      "outputs": []
    },
    {
      "cell_type": "markdown",
      "source": [
        "##Create Train Data"
      ],
      "metadata": {
        "id": "WicLZL6PSrce"
      }
    },
    {
      "cell_type": "code",
      "source": [
        "notes = [list(note) for note in notes]\n",
        "\n",
        "X = []\n",
        "y = []\n",
        "\n",
        "n_prev = 30\n",
        "\n",
        "for i in range(len(notes) - n_prev):\n",
        "  X.append(notes[i:i+n_prev])\n",
        "  y.append(notes[i+n_prev])\n",
        "\n",
        "X_test = X[-300:]\n",
        "X = X[:-300]\n",
        "y= y[:-300]"
      ],
      "metadata": {
        "id": "hJMDyJwtSqYY"
      },
      "execution_count": 10,
      "outputs": []
    },
    {
      "cell_type": "markdown",
      "source": [
        "##Build LSTM"
      ],
      "metadata": {
        "id": "2nsy2IQ3T9qH"
      }
    },
    {
      "cell_type": "code",
      "source": [
        "model = Sequential([\n",
        "  LSTM(256, input_shape = (n_prev,1), return_sequences= True),\n",
        "  Dropout(0.6),\n",
        "  LSTM(128, input_shape = (n_prev,1), return_sequences= True),\n",
        "  Dropout(0.6),\n",
        "  LSTM(64, input_shape = (n_prev,1), return_sequences= True),\n",
        "  Dropout(0.6),\n",
        "  LSTM(32, input_shape = (n_prev,1), return_sequences= False),\n",
        "  Dropout(0.6),\n",
        "  \n",
        "  Dense(1, activation= \"linear\")\n",
        "])\n",
        "\n",
        "model.summary()\n",
        "optimizer = Adam(lr = 0.001)\n",
        "model.compile(loss = \"mse\" , optimizer = optimizer)"
      ],
      "metadata": {
        "colab": {
          "base_uri": "https://localhost:8080/"
        },
        "id": "a_9JZDcET_6q",
        "outputId": "f4ced1ff-331c-488e-eb38-38bcb1dc0394"
      },
      "execution_count": 19,
      "outputs": [
        {
          "output_type": "stream",
          "name": "stdout",
          "text": [
            "Model: \"sequential_1\"\n",
            "_________________________________________________________________\n",
            " Layer (type)                Output Shape              Param #   \n",
            "=================================================================\n",
            " lstm_3 (LSTM)               (None, 30, 256)           264192    \n",
            "                                                                 \n",
            " dropout_3 (Dropout)         (None, 30, 256)           0         \n",
            "                                                                 \n",
            " lstm_4 (LSTM)               (None, 30, 128)           197120    \n",
            "                                                                 \n",
            " dropout_4 (Dropout)         (None, 30, 128)           0         \n",
            "                                                                 \n",
            " lstm_5 (LSTM)               (None, 30, 64)            49408     \n",
            "                                                                 \n",
            " dropout_5 (Dropout)         (None, 30, 64)            0         \n",
            "                                                                 \n",
            " lstm_6 (LSTM)               (None, 32)                12416     \n",
            "                                                                 \n",
            " dropout_6 (Dropout)         (None, 32)                0         \n",
            "                                                                 \n",
            " dense_1 (Dense)             (None, 1)                 33        \n",
            "                                                                 \n",
            "=================================================================\n",
            "Total params: 523,169\n",
            "Trainable params: 523,169\n",
            "Non-trainable params: 0\n",
            "_________________________________________________________________\n"
          ]
        },
        {
          "output_type": "stream",
          "name": "stderr",
          "text": [
            "/usr/local/lib/python3.7/dist-packages/keras/optimizer_v2/adam.py:105: UserWarning: The `lr` argument is deprecated, use `learning_rate` instead.\n",
            "  super(Adam, self).__init__(name, **kwargs)\n"
          ]
        }
      ]
    },
    {
      "cell_type": "markdown",
      "source": [
        "##Train"
      ],
      "metadata": {
        "id": "jRjnaRc1U6GH"
      }
    },
    {
      "cell_type": "code",
      "source": [
        "model.fit(np.array(X), np.array(y), batch_size = 16, epochs = 15, verbose = 1)"
      ],
      "metadata": {
        "colab": {
          "base_uri": "https://localhost:8080/"
        },
        "id": "U4H0pBOzSpNz",
        "outputId": "a78f6fb8-7c9c-4206-d9f8-eb5dc0c91f26"
      },
      "execution_count": 20,
      "outputs": [
        {
          "output_type": "stream",
          "name": "stdout",
          "text": [
            "Epoch 1/15\n",
            "195/195 [==============================] - 7s 11ms/step - loss: 0.0276\n",
            "Epoch 2/15\n",
            "195/195 [==============================] - 2s 11ms/step - loss: 0.0199\n",
            "Epoch 3/15\n",
            "195/195 [==============================] - 2s 11ms/step - loss: 0.0186\n",
            "Epoch 4/15\n",
            "195/195 [==============================] - 2s 11ms/step - loss: 0.0172\n",
            "Epoch 5/15\n",
            "195/195 [==============================] - 2s 11ms/step - loss: 0.0166\n",
            "Epoch 6/15\n",
            "195/195 [==============================] - 2s 11ms/step - loss: 0.0158\n",
            "Epoch 7/15\n",
            "195/195 [==============================] - 2s 11ms/step - loss: 0.0153\n",
            "Epoch 8/15\n",
            "195/195 [==============================] - 2s 11ms/step - loss: 0.0151\n",
            "Epoch 9/15\n",
            "195/195 [==============================] - 2s 13ms/step - loss: 0.0152\n",
            "Epoch 10/15\n",
            "195/195 [==============================] - 2s 12ms/step - loss: 0.0150\n",
            "Epoch 11/15\n",
            "195/195 [==============================] - 2s 11ms/step - loss: 0.0148\n",
            "Epoch 12/15\n",
            "195/195 [==============================] - 2s 12ms/step - loss: 0.0149\n",
            "Epoch 13/15\n",
            "195/195 [==============================] - 2s 11ms/step - loss: 0.0146\n",
            "Epoch 14/15\n",
            "195/195 [==============================] - 2s 11ms/step - loss: 0.0148\n",
            "Epoch 15/15\n",
            "195/195 [==============================] - 2s 11ms/step - loss: 0.0145\n"
          ]
        },
        {
          "output_type": "execute_result",
          "data": {
            "text/plain": [
              "<keras.callbacks.History at 0x7f1e2b609910>"
            ]
          },
          "metadata": {},
          "execution_count": 20
        }
      ]
    },
    {
      "cell_type": "markdown",
      "source": [
        "##Generating and Saving Music"
      ],
      "metadata": {
        "id": "ygSNPiEzVNR8"
      }
    },
    {
      "cell_type": "code",
      "source": [
        "prediction = model.predict(np.array(X_test))\n",
        "prediction = np.squeeze(prediction)\n",
        "prediction = np.squeeze(scaler.inverse_transform(prediction.reshape(-1,1)))\n",
        "prediction = [int(i) for i in prediction]\n",
        "\n",
        "mid = MidiFile()\n",
        "track = MidiTrack()\n",
        "t = 0\n",
        "\n",
        "for note in prediction:\n",
        "  #147 means note_on\n",
        "  #67 in velosity\n",
        "  note = np.asarray([147, note, 67])\n",
        "  bytes = note.astype(int)\n",
        "  msg = Message.from_bytes(bytes[0:3])\n",
        "  t += 1\n",
        "  msg.time = t\n",
        "  track.append(msg)\n",
        "\n",
        "mid.tracks.append(track)\n",
        "mid.save(\"LSTM_music.mid\")\n"
      ],
      "metadata": {
        "id": "B6FIcSHPTlLO"
      },
      "execution_count": 21,
      "outputs": []
    },
    {
      "cell_type": "code",
      "source": [
        ""
      ],
      "metadata": {
        "id": "H9Dg6MKFWCh_"
      },
      "execution_count": null,
      "outputs": []
    }
  ]
}