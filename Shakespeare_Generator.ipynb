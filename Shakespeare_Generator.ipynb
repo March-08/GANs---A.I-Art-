{
  "nbformat": 4,
  "nbformat_minor": 0,
  "metadata": {
    "colab": {
      "name": "Shakespeare Generator.ipynb",
      "provenance": []
    },
    "kernelspec": {
      "name": "python3",
      "display_name": "Python 3"
    },
    "language_info": {
      "name": "python"
    }
  },
  "cells": [
    {
      "cell_type": "markdown",
      "source": [
        "##Import Packages"
      ],
      "metadata": {
        "id": "fdeP-qrvz_L1"
      }
    },
    {
      "cell_type": "code",
      "execution_count": 1,
      "metadata": {
        "id": "1yLjU-UjzeL8"
      },
      "outputs": [],
      "source": [
        "import tensorflow as tf\n",
        "from tensorflow.keras.preprocessing.text import Tokenizer\n",
        "from tensorflow.keras.preprocessing.sequence import pad_sequences\n",
        "from tensorflow.keras.layers import Embedding, Dense, Dropout, LSTM, Bidirectional\n",
        "from tensorflow.keras.models import Sequential\n",
        "from tensorflow.keras.optimizers import Adam\n",
        "import numpy as np"
      ]
    },
    {
      "cell_type": "markdown",
      "source": [
        "##Download Dataset"
      ],
      "metadata": {
        "id": "ih8-zAjH0CEa"
      }
    },
    {
      "cell_type": "code",
      "source": [
        "!wget --no-check-certificate http://storage.googleapis.com/laurencemoroney-blog.appspot.com/sonnets.txt -O sonnets.txt"
      ],
      "metadata": {
        "colab": {
          "base_uri": "https://localhost:8080/"
        },
        "id": "jSDMYtmez-gs",
        "outputId": "d2dbe9a2-a15e-4d75-d4cc-a8708dfe82ad"
      },
      "execution_count": 2,
      "outputs": [
        {
          "output_type": "stream",
          "name": "stdout",
          "text": [
            "--2022-01-27 13:54:52--  http://storage.googleapis.com/laurencemoroney-blog.appspot.com/sonnets.txt\n",
            "Resolving storage.googleapis.com (storage.googleapis.com)... 172.217.218.128, 142.250.153.128, 142.250.145.128, ...\n",
            "Connecting to storage.googleapis.com (storage.googleapis.com)|172.217.218.128|:80... connected.\n",
            "HTTP request sent, awaiting response... 200 OK\n",
            "Length: 93578 (91K) [text/plain]\n",
            "Saving to: ‘sonnets.txt’\n",
            "\n",
            "sonnets.txt         100%[===================>]  91.38K  --.-KB/s    in 0s      \n",
            "\n",
            "2022-01-27 13:54:52 (356 MB/s) - ‘sonnets.txt’ saved [93578/93578]\n",
            "\n"
          ]
        }
      ]
    },
    {
      "cell_type": "markdown",
      "source": [
        "##Tokenize Text"
      ],
      "metadata": {
        "id": "Vt1djqpN0XiG"
      }
    },
    {
      "cell_type": "code",
      "source": [
        "tokenizer = Tokenizer()\n",
        "data = open(\"/content/sonnets.txt\").read()\n",
        "\n",
        "corpus = data.lower().split(\"\\n\")\n",
        "tokenizer.fit_on_texts(corpus)\n",
        "total_words = len(tokenizer.word_index) + 1"
      ],
      "metadata": {
        "id": "wmk5Mqx30Uqs"
      },
      "execution_count": null,
      "outputs": []
    },
    {
      "cell_type": "markdown",
      "source": [
        "##From text to numbers"
      ],
      "metadata": {
        "id": "hzRQqPvV1kFy"
      }
    },
    {
      "cell_type": "code",
      "source": [
        "input_sequences = []\n",
        "\n",
        "for line in corpus:\n",
        "  token_list = tokenizer.texts_to_sequences([line])[0]\n",
        "  #print(\"LIST = \", str(token_list))\n",
        "  for i in range(1,len(token_list)):\n",
        "    n_gram_sequence = token_list[:i+1]\n",
        "    #print(n_gram_sequence )\n",
        "    input_sequences.append(n_gram_sequence)\n",
        "\n",
        "#USE PADDING TO MAKE SENTENCES HAVE THE SAME LENGTH\n",
        "max_sequence_len = max([len(seq) for seq in input_sequences])\n",
        "\n",
        "#can use pre or post for padding\n",
        "input_sequences = np.array(pad_sequences(input_sequences, padding=\"pre\", maxlen=max_sequence_len))\n",
        "\n",
        "#format training data\n",
        "xs, labels = input_sequences[:,:-1], input_sequences[:,-1]\n",
        "ys = tf.keras.utils.to_categorical(labels, num_classes = total_words)"
      ],
      "metadata": {
        "id": "fktlPUhG03AP"
      },
      "execution_count": null,
      "outputs": []
    },
    {
      "cell_type": "markdown",
      "source": [
        "##Build LSTM"
      ],
      "metadata": {
        "id": "UtcblyLp43Dl"
      }
    },
    {
      "cell_type": "code",
      "source": [
        "model = Sequential([\n",
        "  Embedding(input_dim = total_words, output_dim = 100, input_length= max_sequence_len -1), #converts sequences into parameters\n",
        "  LSTM(150, return_sequences = True), #all LSTM layers except the last should have this parameter to true\n",
        "  Dropout(0.3),\n",
        "  LSTM(96),\n",
        "  Dense(total_words / 2, activation = \"relu\"),\n",
        "  Dense(total_words, activation = \"softmax\")\n",
        "])\n",
        "\n",
        "model.summary()"
      ],
      "metadata": {
        "colab": {
          "base_uri": "https://localhost:8080/"
        },
        "id": "igDUE7s34kv3",
        "outputId": "1f74466b-7cd1-4df6-8677-330b109c5aa6"
      },
      "execution_count": 32,
      "outputs": [
        {
          "output_type": "stream",
          "name": "stdout",
          "text": [
            "Model: \"sequential\"\n",
            "_________________________________________________________________\n",
            " Layer (type)                Output Shape              Param #   \n",
            "=================================================================\n",
            " embedding_1 (Embedding)     (None, 10, 100)           321100    \n",
            "                                                                 \n",
            " lstm_2 (LSTM)               (None, 10, 150)           150600    \n",
            "                                                                 \n",
            " dropout_1 (Dropout)         (None, 10, 150)           0         \n",
            "                                                                 \n",
            " lstm_3 (LSTM)               (None, 96)                94848     \n",
            "                                                                 \n",
            " dense_2 (Dense)             (None, 1605)              155685    \n",
            "                                                                 \n",
            " dense_3 (Dense)             (None, 3211)              5156866   \n",
            "                                                                 \n",
            "=================================================================\n",
            "Total params: 5,879,099\n",
            "Trainable params: 5,879,099\n",
            "Non-trainable params: 0\n",
            "_________________________________________________________________\n"
          ]
        }
      ]
    },
    {
      "cell_type": "markdown",
      "source": [
        "##Training Neural Network"
      ],
      "metadata": {
        "id": "2G9F2zTt6DTM"
      }
    },
    {
      "cell_type": "code",
      "source": [
        "model.compile(loss = \"categorical_crossentropy\", optimizer = \"adam\")\n",
        "model.fit(xs,ys, epochs = 200, verbose = 1)"
      ],
      "metadata": {
        "id": "UeRFy5pn512C"
      },
      "execution_count": 36,
      "outputs": []
    },
    {
      "cell_type": "markdown",
      "source": [
        "##Generate Text"
      ],
      "metadata": {
        "id": "DJ-AcSXF7YXt"
      }
    },
    {
      "cell_type": "code",
      "source": [
        "\n",
        "def predict_next_words(seed_text, next_words):\n",
        "  for _ in range(next_words):\n",
        "    token_list = tokenizer.texts_to_sequences([seed_text])[0]\n",
        "    token_list = pad_sequences([token_list], maxlen=max_sequence_len-1, padding='pre')\n",
        "    predict_x=model.predict(token_list) \n",
        "    predicted=np.argmax(predict_x,axis=1)\n",
        "    # predicted = model.predict_classes(token_list, verbose=0)\n",
        "    output_word = \"\"\n",
        "    for word, index in tokenizer.word_index.items():\n",
        "      if index == predicted:\n",
        "        output_word = word\n",
        "        break\n",
        "    seed_text += \" \" + output_word\n",
        "\n",
        "  print(seed_text)\n",
        "  return seed_text"
      ],
      "metadata": {
        "id": "xzbxNipw6Nvn"
      },
      "execution_count": 42,
      "outputs": []
    },
    {
      "cell_type": "code",
      "source": [
        "seed_text = \"I love you\"\n",
        "next_words = 100\n",
        "generated_text = predict_next_words(seed_text, next_words)"
      ],
      "metadata": {
        "colab": {
          "base_uri": "https://localhost:8080/",
          "height": 127
        },
        "id": "eS_EuUmD8tmp",
        "outputId": "d0946f85-0554-4498-c675-3eaaf6302051"
      },
      "execution_count": 45,
      "outputs": [
        {
          "output_type": "stream",
          "name": "stdout",
          "text": [
            "I love you bore i beauty nourish'd of those old near care it wastes new lie date to heart ' ' gladly forth forth me with seen lease of day day trust night oppress'd night trust bow bow bow thereby face staineth lie it it in me lies lies lies you ' untrue ' 'no ' untrue untrue untrue untrue untrue untrue untrue untrue forth bright to lease days ' wrong seen days days ' ' wrong new gone esteem'd face seen untrue seen days days days or near be more ' wrong seen ' date staineth faith torn gone seen of trust\n"
          ]
        },
        {
          "output_type": "execute_result",
          "data": {
            "application/vnd.google.colaboratory.intrinsic+json": {
              "type": "string"
            },
            "text/plain": [
              "\"I love you bore i beauty nourish'd of those old near care it wastes new lie date to heart ' ' gladly forth forth me with seen lease of day day trust night oppress'd night trust bow bow bow thereby face staineth lie it it in me lies lies lies you ' untrue ' 'no ' untrue untrue untrue untrue untrue untrue untrue untrue forth bright to lease days ' wrong seen days days ' ' wrong new gone esteem'd face seen untrue seen days days days or near be more ' wrong seen ' date staineth faith torn gone seen of trust\""
            ]
          },
          "metadata": {},
          "execution_count": 45
        }
      ]
    },
    {
      "cell_type": "code",
      "source": [
        ""
      ],
      "metadata": {
        "id": "jf5U2RyM94dk"
      },
      "execution_count": null,
      "outputs": []
    }
  ]
}