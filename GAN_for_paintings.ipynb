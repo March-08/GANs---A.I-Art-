{
  "nbformat": 4,
  "nbformat_minor": 0,
  "metadata": {
    "colab": {
      "name": "GAN for paintings.ipynb",
      "provenance": []
    },
    "kernelspec": {
      "name": "python3",
      "display_name": "Python 3"
    },
    "language_info": {
      "name": "python"
    }
  },
  "cells": [
    {
      "cell_type": "markdown",
      "source": [
        "##Mount Google Drive"
      ],
      "metadata": {
        "id": "EMu-MM6QQBer"
      }
    },
    {
      "cell_type": "code",
      "execution_count": 4,
      "metadata": {
        "colab": {
          "base_uri": "https://localhost:8080/"
        },
        "id": "Kx2coz4sO--h",
        "outputId": "a50caeb4-942c-4057-a07e-93b4fce41cc9"
      },
      "outputs": [
        {
          "output_type": "stream",
          "name": "stdout",
          "text": [
            "Mounted at /content/drive/\n"
          ]
        }
      ],
      "source": [
        "from google.colab import drive\n",
        "drive.mount(\"/content/drive/\")"
      ]
    },
    {
      "cell_type": "markdown",
      "source": [
        "##Importing Packages"
      ],
      "metadata": {
        "id": "blqBlC8_QHbT"
      }
    },
    {
      "cell_type": "code",
      "source": [
        "import tensorflow as tf\n",
        "from tensorflow import keras\n",
        "from keras.models import Sequential\n",
        "from keras.layers import Reshape, Flatten, Conv2D, Dense, Conv2DTranspose, Dropout\n",
        "from keras.layers.advanced_activations import LeakyReLU\n",
        "from tensorflow.keras.optimizers import Adam\n",
        "import numpy as np\n",
        "!mkdir generated_images resized_images"
      ],
      "metadata": {
        "id": "BSwRW2OsPAur"
      },
      "execution_count": 5,
      "outputs": []
    },
    {
      "cell_type": "markdown",
      "source": [
        "###Unzip the file in a destination directory"
      ],
      "metadata": {
        "id": "IxaU0ogrQx4k"
      }
    },
    {
      "cell_type": "code",
      "source": [
        "!unzip /content/drive/MyDrive/DATASETS/paintings1k.zip -d paintings"
      ],
      "metadata": {
        "id": "zOQGLjlPQOP3"
      },
      "execution_count": null,
      "outputs": []
    },
    {
      "cell_type": "code",
      "source": [
        "images_path = \"/content/paintings/\""
      ],
      "metadata": {
        "id": "hKkdjUm3RJtj"
      },
      "execution_count": 7,
      "outputs": []
    },
    {
      "cell_type": "markdown",
      "source": [
        "##Resizing Data to feed NN"
      ],
      "metadata": {
        "id": "iaLdLuD1Rxos"
      }
    },
    {
      "cell_type": "code",
      "source": [
        "import os\n",
        "import cv2\n",
        "\n",
        "reshape_size = (128,128)\n",
        "\n",
        "for i,image in enumerate(os.listdir(images_path)):\n",
        "  img_path = os.path.join(images_path, image)\n",
        "  img = cv2.imread(img_path)\n",
        "  img = cv2.resize(img, reshape_size)\n",
        "  cv2.imwrite(f\"resized_images/{i}.png\", img)"
      ],
      "metadata": {
        "id": "RLXiAzN_Rb4Q"
      },
      "execution_count": 8,
      "outputs": []
    },
    {
      "cell_type": "markdown",
      "source": [
        "##NN Parameters"
      ],
      "metadata": {
        "id": "ARcUqgwrUSS-"
      }
    },
    {
      "cell_type": "code",
      "source": [
        "img_width = 128\n",
        "img_height = 128\n",
        "channels = 3\n",
        "img_shape = (img_width, img_height, channels)\n",
        "latent_dim = 100\n",
        "adam = Adam(lr = 0.0002)"
      ],
      "metadata": {
        "colab": {
          "base_uri": "https://localhost:8080/"
        },
        "id": "772IAwVvSYAT",
        "outputId": "5ff12cd3-3fab-46eb-a3db-aa85f202a5b2"
      },
      "execution_count": 9,
      "outputs": [
        {
          "output_type": "stream",
          "name": "stderr",
          "text": [
            "/usr/local/lib/python3.7/dist-packages/keras/optimizer_v2/adam.py:105: UserWarning: The `lr` argument is deprecated, use `learning_rate` instead.\n",
            "  super(Adam, self).__init__(name, **kwargs)\n"
          ]
        }
      ]
    },
    {
      "cell_type": "markdown",
      "source": [
        "Since I need an output of 128, and I use 3 Conv2DTranspose I shoulde start the first layer with (((128/2)/2)/2) = 16"
      ],
      "metadata": {
        "id": "-oUoCaAsxAp8"
      }
    },
    {
      "cell_type": "code",
      "source": [
        "def build_generator():\n",
        "  model = Sequential([\n",
        "    Dense(256 * 16 * 16 , input_dim = latent_dim), #reshape the two 8 in case doent match\n",
        "    LeakyReLU(alpha = 0.2),\n",
        "    Reshape((16,16,256)), #reshape the two 8 in case doent match\n",
        "\n",
        "    Conv2DTranspose(128, (4,4), strides = (2,2), padding = \"same\"),\n",
        "    LeakyReLU(alpha = 0.2),\n",
        "    \n",
        "    Conv2DTranspose(128, (4,4), strides = (2,2), padding = \"same\"),\n",
        "    LeakyReLU(alpha = 0.2),\n",
        "\n",
        "    Conv2DTranspose(128, (4,4), strides = (2,2), padding = \"same\"),\n",
        "    LeakyReLU(alpha = 0.2),\n",
        "\n",
        "    Conv2D(3, (3,3), activation = \"tanh\", padding = \"same\") \n",
        "  ])\n",
        "\n",
        "  model.summary()\n",
        "  return model\n",
        "\n",
        "generator = build_generator()"
      ],
      "metadata": {
        "colab": {
          "base_uri": "https://localhost:8080/"
        },
        "id": "qZSzv56oUh76",
        "outputId": "054d478c-6f42-40e0-d598-b4c39017f1f6"
      },
      "execution_count": 10,
      "outputs": [
        {
          "output_type": "stream",
          "name": "stdout",
          "text": [
            "Model: \"sequential\"\n",
            "_________________________________________________________________\n",
            " Layer (type)                Output Shape              Param #   \n",
            "=================================================================\n",
            " dense (Dense)               (None, 65536)             6619136   \n",
            "                                                                 \n",
            " leaky_re_lu (LeakyReLU)     (None, 65536)             0         \n",
            "                                                                 \n",
            " reshape (Reshape)           (None, 16, 16, 256)       0         \n",
            "                                                                 \n",
            " conv2d_transpose (Conv2DTra  (None, 32, 32, 128)      524416    \n",
            " nspose)                                                         \n",
            "                                                                 \n",
            " leaky_re_lu_1 (LeakyReLU)   (None, 32, 32, 128)       0         \n",
            "                                                                 \n",
            " conv2d_transpose_1 (Conv2DT  (None, 64, 64, 128)      262272    \n",
            " ranspose)                                                       \n",
            "                                                                 \n",
            " leaky_re_lu_2 (LeakyReLU)   (None, 64, 64, 128)       0         \n",
            "                                                                 \n",
            " conv2d_transpose_2 (Conv2DT  (None, 128, 128, 128)    262272    \n",
            " ranspose)                                                       \n",
            "                                                                 \n",
            " leaky_re_lu_3 (LeakyReLU)   (None, 128, 128, 128)     0         \n",
            "                                                                 \n",
            " conv2d (Conv2D)             (None, 128, 128, 3)       3459      \n",
            "                                                                 \n",
            "=================================================================\n",
            "Total params: 7,671,555\n",
            "Trainable params: 7,671,555\n",
            "Non-trainable params: 0\n",
            "_________________________________________________________________\n"
          ]
        }
      ]
    },
    {
      "cell_type": "code",
      "source": [
        "def build_discriminator():\n",
        "  model = Sequential([\n",
        "    Conv2D(64, (3,3), padding = \"same\", input_shape = img_shape),\n",
        "    LeakyReLU(alpha = 0.2),\n",
        "\n",
        "    Conv2D(128, (3,3), padding = \"same\"),\n",
        "    LeakyReLU(alpha = 0.2),\n",
        "\n",
        "    Conv2D(128, (3,3), padding = \"same\"),\n",
        "    LeakyReLU(alpha = 0.2),\n",
        "\n",
        "    Conv2D(256, (3,3), padding = \"same\"),\n",
        "    LeakyReLU(alpha = 0.2),\n",
        "\n",
        "    Flatten(),\n",
        "    Dropout(0.4),\n",
        "    Dense(1, activation = \"sigmoid\")\n",
        "\n",
        "  ])\n",
        "\n",
        "  model.summary()\n",
        "  return model\n",
        "\n",
        "discriminator = build_discriminator()\n",
        "discriminator.compile(loss='binary_crossentropy', optimizer=adam, metrics=['accuracy'])"
      ],
      "metadata": {
        "colab": {
          "base_uri": "https://localhost:8080/"
        },
        "id": "2HrMlgKrVdyj",
        "outputId": "abd5ec01-8026-4fcb-e138-9535bf5c5482"
      },
      "execution_count": 11,
      "outputs": [
        {
          "output_type": "stream",
          "name": "stdout",
          "text": [
            "Model: \"sequential_1\"\n",
            "_________________________________________________________________\n",
            " Layer (type)                Output Shape              Param #   \n",
            "=================================================================\n",
            " conv2d_1 (Conv2D)           (None, 128, 128, 64)      1792      \n",
            "                                                                 \n",
            " leaky_re_lu_4 (LeakyReLU)   (None, 128, 128, 64)      0         \n",
            "                                                                 \n",
            " conv2d_2 (Conv2D)           (None, 128, 128, 128)     73856     \n",
            "                                                                 \n",
            " leaky_re_lu_5 (LeakyReLU)   (None, 128, 128, 128)     0         \n",
            "                                                                 \n",
            " conv2d_3 (Conv2D)           (None, 128, 128, 128)     147584    \n",
            "                                                                 \n",
            " leaky_re_lu_6 (LeakyReLU)   (None, 128, 128, 128)     0         \n",
            "                                                                 \n",
            " conv2d_4 (Conv2D)           (None, 128, 128, 256)     295168    \n",
            "                                                                 \n",
            " leaky_re_lu_7 (LeakyReLU)   (None, 128, 128, 256)     0         \n",
            "                                                                 \n",
            " flatten (Flatten)           (None, 4194304)           0         \n",
            "                                                                 \n",
            " dropout (Dropout)           (None, 4194304)           0         \n",
            "                                                                 \n",
            " dense_1 (Dense)             (None, 1)                 4194305   \n",
            "                                                                 \n",
            "=================================================================\n",
            "Total params: 4,712,705\n",
            "Trainable params: 4,712,705\n",
            "Non-trainable params: 0\n",
            "_________________________________________________________________\n"
          ]
        }
      ]
    },
    {
      "cell_type": "markdown",
      "source": [
        "##Creating the GAN"
      ],
      "metadata": {
        "id": "KDcVprXQWiWy"
      }
    },
    {
      "cell_type": "code",
      "source": [
        "GAN = Sequential([\n",
        "  generator,\n",
        "  discriminator\n",
        "])\n",
        "\n",
        "GAN.layers[1].trainable = False\n",
        "GAN.summary()\n",
        "GAN.compile(loss = \"binary_crossentropy\", optimizer = adam)"
      ],
      "metadata": {
        "colab": {
          "base_uri": "https://localhost:8080/"
        },
        "id": "qheb4BxxWU7n",
        "outputId": "8fada245-4fd7-48f2-fc3a-e124519dca91"
      },
      "execution_count": 12,
      "outputs": [
        {
          "output_type": "stream",
          "name": "stdout",
          "text": [
            "Model: \"sequential_2\"\n",
            "_________________________________________________________________\n",
            " Layer (type)                Output Shape              Param #   \n",
            "=================================================================\n",
            " sequential (Sequential)     (None, 128, 128, 3)       7671555   \n",
            "                                                                 \n",
            " sequential_1 (Sequential)   (None, 1)                 4712705   \n",
            "                                                                 \n",
            "=================================================================\n",
            "Total params: 12,384,260\n",
            "Trainable params: 7,671,555\n",
            "Non-trainable params: 4,712,705\n",
            "_________________________________________________________________\n"
          ]
        }
      ]
    },
    {
      "cell_type": "markdown",
      "source": [
        "##Output Images"
      ],
      "metadata": {
        "id": "OEHPG3FSXYA1"
      }
    },
    {
      "cell_type": "code",
      "source": [
        "import matplotlib.pyplot as plt\n",
        "import glob\n",
        "import imageio\n",
        "import PIL\n",
        "\n",
        "save_name = 0.00000000\n",
        "\n",
        "def save_imgs(epoch):\n",
        "    r, c = 2, 2\n",
        "    noise = np.random.normal(0, 1, (r * c, latent_dim))\n",
        "    gen_imgs = generator.predict(noise)\n",
        "    global save_name\n",
        "    save_name += 0.00000001\n",
        "    # print(\"%.8f\" % save_name)\n",
        "\n",
        "    # Rescale images 0 - 1\n",
        "    # gen_imgs = 0.5 * gen_imgs + 0.5\n",
        "    gen_imgs = (gen_imgs + 1) / 2.0\n",
        "    # gen_imgs = gen_imgs * 255\n",
        "\n",
        "    fig, axs = plt.subplots(r, c)\n",
        "    cnt = 0\n",
        "    for i in range(r):\n",
        "        for j in range(c):\n",
        "            axs[i,j].imshow(gen_imgs[cnt])\n",
        "            axs[i,j].axis('off')\n",
        "            cnt += 1\n",
        "    fig.savefig(\"generated_images/%.8f.png\" % save_name)\n",
        "    plt.close()"
      ],
      "metadata": {
        "id": "-p0XCySWW0Sd"
      },
      "execution_count": 13,
      "outputs": []
    },
    {
      "cell_type": "markdown",
      "source": [
        "##Training GAN"
      ],
      "metadata": {
        "id": "FrciOgFxXd22"
      }
    },
    {
      "cell_type": "code",
      "source": [
        "from PIL import Image\n",
        "\n",
        "array = []\n",
        "path = \"/content/resized_images/\"\n",
        "\n",
        "for image in os.listdir(path):\n",
        "  image = Image.open(path + image)\n",
        "  data = np.asarray(image)\n",
        "  array.append(data)\n",
        "\n",
        "X_train = np.array(array)\n",
        "X_train = X_train /127.5 -1.\n",
        "print(X_train.shape)"
      ],
      "metadata": {
        "colab": {
          "base_uri": "https://localhost:8080/"
        },
        "id": "PfjDhi34XfUL",
        "outputId": "ecaf25ce-0914-42d0-8793-496dc4d43067"
      },
      "execution_count": 14,
      "outputs": [
        {
          "output_type": "stream",
          "name": "stdout",
          "text": [
            "(1274, 128, 128, 3)\n"
          ]
        }
      ]
    },
    {
      "cell_type": "markdown",
      "source": [
        "Remeber the batch size should be proportional to the amoubt of data"
      ],
      "metadata": {
        "id": "yHv8E2LiYxEi"
      }
    },
    {
      "cell_type": "code",
      "source": [
        "def train(epochs, batch_size = 32):\n",
        "  bat_per_epo = int(X_train.shape[0] / batch_size)\n",
        "\n",
        "  valid = np.ones((batch_size, 1))\n",
        "  fakes = np.zeros((batch_size, 1))\n",
        "\n",
        "  for epoch in range(epochs):\n",
        "    for j in range(bat_per_epo):\n",
        "      #Get random batch\n",
        "      idx = np.random.randint(0,X_train.shape[0], batch_size)\n",
        "      imgs = X_train[idx]\n",
        "\n",
        "      #Generate Fake Images\n",
        "      noise = np.random.normal(0,1, (batch_size, latent_dim))\n",
        "      gen_imgs = generator.predict(noise)\n",
        "\n",
        "      #train discriminator\n",
        "      d_loss_real = discriminator.train_on_batch(imgs, valid)\n",
        "      d_loss_fake = discriminator.train_on_batch(imgs,fakes)\n",
        "      d_loss = 0.5 * np.add(d_loss_real, d_loss_fake)\n",
        "\n",
        "      noise = np.random.normal(0,1, (batch_size, latent_dim))\n",
        "\n",
        "      #inverse y label\n",
        "      g_loss = GAN.train_on_batch(noise,valid)\n",
        "\n",
        "      print(\"******* %d %d [D loss: %f, acc: %.2f%%] [G loss: %f]\" % (epoch,j, d_loss[0], 100* d_loss[1], g_loss))\n",
        "\n",
        "    save_imgs(epoch)\n",
        "\n",
        "train(60000, batch_size = 32)\n"
      ],
      "metadata": {
        "id": "9MTnb_LDY0WL"
      },
      "execution_count": null,
      "outputs": []
    },
    {
      "cell_type": "markdown",
      "source": [
        "##Create a GIF"
      ],
      "metadata": {
        "id": "5ND4sQyCdNoc"
      }
    },
    {
      "cell_type": "code",
      "source": [
        "# Display a single image using the epoch number\n",
        "# def display_image(epoch_no):\n",
        "#   return PIL.Image.open('generated_images/%.8f.png'.format(epoch_no))\n",
        "\n",
        "anim_file = 'dcgan.gif'\n",
        "\n",
        "with imageio.get_writer(anim_file, mode='I') as writer:\n",
        "  filenames = glob.glob('generated_images/*.png')\n",
        "  filenames = sorted(filenames)\n",
        "  for filename in filenames:\n",
        "    image = imageio.imread(filename)\n",
        "    writer.append_data(image)\n",
        "  image = imageio.imread(filename)\n",
        "  writer.append_data(image)"
      ],
      "metadata": {
        "id": "_doHeuGmap0F"
      },
      "execution_count": null,
      "outputs": []
    },
    {
      "cell_type": "markdown",
      "source": [
        "##Saving models weights"
      ],
      "metadata": {
        "id": "aOXlcB3XyHgC"
      }
    },
    {
      "cell_type": "code",
      "source": [
        "generator.save_weights(\"/content/drive/MyDrive/models/generator1hour.h5\")\n",
        "discriminator.save_weights(\"/content/drive/MyDrive/models/discriminator1hour.h5\")"
      ],
      "metadata": {
        "id": "YUx-r6gkyI3z"
      },
      "execution_count": null,
      "outputs": []
    }
  ]
}